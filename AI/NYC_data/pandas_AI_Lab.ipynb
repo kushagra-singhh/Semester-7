{
  "cells": [
    {
      "cell_type": "code",
      "source": [
        "from google.colab import drive\n",
        "drive.mount('/content/drive')"
      ],
      "metadata": {
        "colab": {
          "base_uri": "https://localhost:8080/"
        },
        "id": "bFo8Z-HC_jiT",
        "outputId": "730b8318-4bda-472f-dfd4-8a316edb8ea5"
      },
      "execution_count": 4,
      "outputs": [
        {
          "output_type": "stream",
          "name": "stdout",
          "text": [
            "Drive already mounted at /content/drive; to attempt to forcibly remount, call drive.mount(\"/content/drive\", force_remount=True).\n"
          ]
        }
      ]
    },
    {
      "cell_type": "code",
      "source": [
        "import pandas as pd\n",
        "df = pd.read_csv('/content/drive/MyDrive/nyc_weather.csv')"
      ],
      "metadata": {
        "id": "7lydyjNb_px3"
      },
      "execution_count": 6,
      "outputs": []
    },
    {
      "cell_type": "markdown",
      "source": [
        "**Get the dimension of the table :**"
      ],
      "metadata": {
        "id": "1rWfWTzNADIv"
      }
    },
    {
      "cell_type": "code",
      "source": [
        "dimensions = df.shape\n",
        "print(f'Dimensions: {dimensions}')"
      ],
      "metadata": {
        "colab": {
          "base_uri": "https://localhost:8080/"
        },
        "id": "EhObEqfT_pof",
        "outputId": "6da3ae8f-cf42-4e5a-9ccb-4264bde7ccf2"
      },
      "execution_count": 7,
      "outputs": [
        {
          "output_type": "stream",
          "name": "stdout",
          "text": [
            "Dimensions: (31, 11)\n"
          ]
        }
      ]
    },
    {
      "cell_type": "markdown",
      "source": [
        "**Print  intial and last 5 rows of the table :**"
      ],
      "metadata": {
        "id": "bMqL2s8KAPRf"
      }
    },
    {
      "cell_type": "code",
      "source": [
        "#initial 5 rows\n",
        "print(\"Initial 5 rows:\")\n",
        "print(df.head())\n",
        "\n",
        "#last 5 rows\n",
        "print(\"Last 5 rows:\")\n",
        "print(df.tail())\n"
      ],
      "metadata": {
        "colab": {
          "base_uri": "https://localhost:8080/"
        },
        "id": "qZbJ5P0XAYGf",
        "outputId": "7b4ebd49-3fa4-44c9-8436-b627aefcbf88"
      },
      "execution_count": 8,
      "outputs": [
        {
          "output_type": "stream",
          "name": "stdout",
          "text": [
            "Initial 5 rows:\n",
            "        EST  Temperature  DewPoint  Humidity  Sea Level PressureIn  \\\n",
            "0  1/1/2016           38        23        52                 30.03   \n",
            "1  1/2/2016           36        18        46                 30.02   \n",
            "2  1/3/2016           40        21        47                 29.86   \n",
            "3  1/4/2016           25         9        44                 30.05   \n",
            "4  1/5/2016           20        -3        41                 30.57   \n",
            "\n",
            "   VisibilityMiles  WindSpeedMPH PrecipitationIn  CloudCover Events  \\\n",
            "0               10           8.0               0           5    NaN   \n",
            "1               10           7.0               0           3    NaN   \n",
            "2               10           8.0               0           1    NaN   \n",
            "3               10           9.0               0           3    NaN   \n",
            "4               10           5.0               0           0    NaN   \n",
            "\n",
            "   WindDirDegrees  \n",
            "0             281  \n",
            "1             275  \n",
            "2             277  \n",
            "3             345  \n",
            "4             333  \n",
            "Last 5 rows:\n",
            "          EST  Temperature  DewPoint  Humidity  Sea Level PressureIn  \\\n",
            "26  1/27/2016           41        22        45                 30.03   \n",
            "27  1/28/2016           37        20        51                 29.90   \n",
            "28  1/29/2016           36        21        50                 29.58   \n",
            "29  1/30/2016           34        16        46                 30.01   \n",
            "30  1/31/2016           46        28        52                 29.90   \n",
            "\n",
            "    VisibilityMiles  WindSpeedMPH PrecipitationIn  CloudCover Events  \\\n",
            "26               10           7.0               T           3   Rain   \n",
            "27               10           5.0               0           1    NaN   \n",
            "28               10           8.0               0           4    NaN   \n",
            "29               10           7.0               0           0    NaN   \n",
            "30               10           5.0               0           0    NaN   \n",
            "\n",
            "    WindDirDegrees  \n",
            "26             311  \n",
            "27             234  \n",
            "28             298  \n",
            "29             257  \n",
            "30             241  \n"
          ]
        }
      ]
    },
    {
      "cell_type": "markdown",
      "source": [
        "**Print 2nd to 5th column**"
      ],
      "metadata": {
        "id": "uIakap3gAnhP"
      }
    },
    {
      "cell_type": "code",
      "source": [
        "print(\"2nd to 5th columns:\")\n",
        "print(df.iloc[:, 1:5])\n"
      ],
      "metadata": {
        "colab": {
          "base_uri": "https://localhost:8080/"
        },
        "id": "UUHd5lKPAsQ-",
        "outputId": "d5224c43-0387-4199-8c35-ab9c24d7e674"
      },
      "execution_count": 9,
      "outputs": [
        {
          "output_type": "stream",
          "name": "stdout",
          "text": [
            "2nd to 5th columns:\n",
            "    Temperature  DewPoint  Humidity  Sea Level PressureIn\n",
            "0            38        23        52                 30.03\n",
            "1            36        18        46                 30.02\n",
            "2            40        21        47                 29.86\n",
            "3            25         9        44                 30.05\n",
            "4            20        -3        41                 30.57\n",
            "5            33         4        35                 30.50\n",
            "6            39        11        33                 30.28\n",
            "7            39        29        64                 30.20\n",
            "8            44        38        77                 30.16\n",
            "9            50        46        71                 29.59\n",
            "10           33         8        37                 29.92\n",
            "11           35        15        53                 29.85\n",
            "12           26         4        42                 29.94\n",
            "13           30        12        47                 29.95\n",
            "14           43        31        62                 29.82\n",
            "15           47        37        70                 29.52\n",
            "16           36        23        66                 29.78\n",
            "17           25         6        53                 29.83\n",
            "18           22         3        42                 30.03\n",
            "19           32        15        49                 30.13\n",
            "20           31        11        45                 30.15\n",
            "21           26         6        41                 30.21\n",
            "22           26        21        78                 29.77\n",
            "23           28        11        53                 29.92\n",
            "24           34        18        54                 30.25\n",
            "25           43        29        56                 30.03\n",
            "26           41        22        45                 30.03\n",
            "27           37        20        51                 29.90\n",
            "28           36        21        50                 29.58\n",
            "29           34        16        46                 30.01\n",
            "30           46        28        52                 29.90\n"
          ]
        }
      ]
    },
    {
      "cell_type": "markdown",
      "source": [
        "**Print all the column name of the table :**"
      ],
      "metadata": {
        "id": "_4VlQajOA2L-"
      }
    },
    {
      "cell_type": "code",
      "source": [
        "print(\"Column names:\")\n",
        "print(df.columns.tolist())\n"
      ],
      "metadata": {
        "colab": {
          "base_uri": "https://localhost:8080/"
        },
        "id": "pxtVLnZkA-yK",
        "outputId": "3de83423-3e50-4380-ad24-c73b1f42104e"
      },
      "execution_count": 10,
      "outputs": [
        {
          "output_type": "stream",
          "name": "stdout",
          "text": [
            "Column names:\n",
            "['EST', 'Temperature', 'DewPoint', 'Humidity', 'Sea Level PressureIn', 'VisibilityMiles', 'WindSpeedMPH', 'PrecipitationIn', 'CloudCover', 'Events', 'WindDirDegrees']\n"
          ]
        }
      ]
    },
    {
      "cell_type": "markdown",
      "source": [
        "**Get all the temperature from the data set :**"
      ],
      "metadata": {
        "id": "_jjlsQMbBC8P"
      }
    },
    {
      "cell_type": "code",
      "source": [
        "temperatures = df['Temperature']\n",
        "print(\"Temperature Data:\")\n",
        "print(temperatures)\n"
      ],
      "metadata": {
        "colab": {
          "base_uri": "https://localhost:8080/"
        },
        "id": "ugNuuPDWBGmX",
        "outputId": "26bba8df-87b4-4790-c793-82cfec634c78"
      },
      "execution_count": 11,
      "outputs": [
        {
          "output_type": "stream",
          "name": "stdout",
          "text": [
            "Temperature Data:\n",
            "0     38\n",
            "1     36\n",
            "2     40\n",
            "3     25\n",
            "4     20\n",
            "5     33\n",
            "6     39\n",
            "7     39\n",
            "8     44\n",
            "9     50\n",
            "10    33\n",
            "11    35\n",
            "12    26\n",
            "13    30\n",
            "14    43\n",
            "15    47\n",
            "16    36\n",
            "17    25\n",
            "18    22\n",
            "19    32\n",
            "20    31\n",
            "21    26\n",
            "22    26\n",
            "23    28\n",
            "24    34\n",
            "25    43\n",
            "26    41\n",
            "27    37\n",
            "28    36\n",
            "29    34\n",
            "30    46\n",
            "Name: Temperature, dtype: int64\n"
          ]
        }
      ]
    },
    {
      "cell_type": "markdown",
      "source": [
        "**Print the max, min temp and descriptive stats about dataset**"
      ],
      "metadata": {
        "id": "LPqGy5eEBQmP"
      }
    },
    {
      "cell_type": "code",
      "source": [
        "max_temp = df['Temperature'].max()\n",
        "min_temp = df['Temperature'].min()\n",
        "print(f'Max Temperature: {max_temp}')\n",
        "print(f'Min Temperature: {min_temp}')\n",
        "\n",
        "print(\"Descriptive statistics:\")\n",
        "print(df['Temperature'].describe())\n"
      ],
      "metadata": {
        "colab": {
          "base_uri": "https://localhost:8080/"
        },
        "id": "qlYc60u4BUAg",
        "outputId": "7e234e30-c985-4193-9324-121178aec350"
      },
      "execution_count": 12,
      "outputs": [
        {
          "output_type": "stream",
          "name": "stdout",
          "text": [
            "Max Temperature: 50\n",
            "Min Temperature: 20\n",
            "Descriptive statistics:\n",
            "count    31.000000\n",
            "mean     34.677419\n",
            "std       7.639315\n",
            "min      20.000000\n",
            "25%      29.000000\n",
            "50%      35.000000\n",
            "75%      39.500000\n",
            "max      50.000000\n",
            "Name: Temperature, dtype: float64\n"
          ]
        }
      ]
    },
    {
      "cell_type": "markdown",
      "source": [
        "**Select the rows which shows max temp :**"
      ],
      "metadata": {
        "id": "wLgxkl_fBcP2"
      }
    },
    {
      "cell_type": "code",
      "source": [
        "max_temp_rows = df[df['Temperature'] == max_temp]\n",
        "print(\"Rows with Maximum temperature:\")\n",
        "print(max_temp_rows)"
      ],
      "metadata": {
        "colab": {
          "base_uri": "https://localhost:8080/"
        },
        "id": "j_4OFJlnBel2",
        "outputId": "8a00f576-cf1a-48db-9ac7-dc5fc374ebc3"
      },
      "execution_count": 13,
      "outputs": [
        {
          "output_type": "stream",
          "name": "stdout",
          "text": [
            "Rows with Maximum temperature:\n",
            "         EST  Temperature  DewPoint  Humidity  Sea Level PressureIn  \\\n",
            "9  1/10/2016           50        46        71                 29.59   \n",
            "\n",
            "   VisibilityMiles  WindSpeedMPH PrecipitationIn  CloudCover Events  \\\n",
            "9                4           NaN             1.8           7   Rain   \n",
            "\n",
            "   WindDirDegrees  \n",
            "9             109  \n"
          ]
        }
      ]
    },
    {
      "cell_type": "markdown",
      "source": [
        "**Select the day which shows max temp :**"
      ],
      "metadata": {
        "id": "V4MHce0MBqLf"
      }
    },
    {
      "cell_type": "code",
      "source": [
        "max_temp_day = df.loc[df['Temperature'] == max_temp, 'EST']\n",
        "print(\"Day with maximum temp :\")\n",
        "print(max_temp_day)\n"
      ],
      "metadata": {
        "colab": {
          "base_uri": "https://localhost:8080/"
        },
        "id": "j0oc1j3DBsJ_",
        "outputId": "b6ba4a6e-29e2-4d0d-ef47-ff636b1712d4"
      },
      "execution_count": 14,
      "outputs": [
        {
          "output_type": "stream",
          "name": "stdout",
          "text": [
            "Day with maximum temp :\n",
            "9    1/10/2016\n",
            "Name: EST, dtype: object\n"
          ]
        }
      ]
    }
  ],
  "metadata": {
    "colab": {
      "provenance": []
    },
    "kernelspec": {
      "display_name": "Python 3",
      "name": "python3"
    },
    "language_info": {
      "name": "python"
    }
  },
  "nbformat": 4,
  "nbformat_minor": 0
}